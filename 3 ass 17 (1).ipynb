{
 "cells": [
  {
   "cell_type": "code",
   "execution_count": 20,
   "metadata": {},
   "outputs": [
    {
     "name": "stdout",
     "output_type": "stream",
     "text": [
      "NO 11\n",
      "NO 210\n",
      "NO to check for20\n",
      "No no bw 1 and 10 can be evenly divided by 20\n",
      "sum is 0\n"
     ]
    }
   ],
   "source": [
    "#1\n",
    "def evenly_divisible(a,b,c):\n",
    "    s=0\n",
    "    for i in range(a,b+1):\n",
    "        if(i%c==0):\n",
    "            q=i\n",
    "            s+=q\n",
    "        else:\n",
    "            print(f\"No no bw {a} and {b} can be evenly divided by {c}\")\n",
    "            break\n",
    "    return s\n",
    "\n",
    "\n",
    "\n",
    "\n",
    "a=int(input('NO 1'))\n",
    "b=int(input('NO 2'))\n",
    "c=int(input('NO to check for'))\n",
    "w=evenly_divisible(a, b,c)\n",
    "print(f\"sum is {w}\")"
   ]
  },
  {
   "cell_type": "code",
   "execution_count": 105,
   "metadata": {},
   "outputs": [
    {
     "name": "stdout",
     "output_type": "stream",
     "text": [
      "False\n",
      "False\n",
      "True\n"
     ]
    }
   ],
   "source": [
    "#2\n",
    "def func(a):\n",
    "        x=3>2>7<9>6\n",
    "        return x\n",
    "def func1(b):\n",
    "        y=3>2>6<3\n",
    "        return y\n",
    "def func2(c):\n",
    "        z=1<2<6<9>3\n",
    "        return z\n",
    "        \n",
    "        \n",
    "\n",
    "\n",
    "a=\"3>2>7<9>6\"\n",
    "b=\"3>2>6<3\"\n",
    "c=\"1<2<6<9>3\"\n",
    "x=func(a)\n",
    "y=func1(b)\n",
    "z=func2(c)\n",
    "print(x)\n",
    "print(y)\n",
    "print(z)\n",
    "    "
   ]
  },
  {
   "cell_type": "code",
   "execution_count": 46,
   "metadata": {},
   "outputs": [
    {
     "name": "stdout",
     "output_type": "stream",
     "text": [
      "enter stringQWERTY keyboard\n",
      "character to insert%\n",
      "QW%RTY k%yb%%rd\n"
     ]
    }
   ],
   "source": [
    "#3\n",
    "def repalce_vowels(r,x):\n",
    "    S1=['A','E','I','O','U','a','e','i','o','u']\n",
    "    for i in S1:\n",
    "        r=r.replace(i,x)\n",
    "    return r\n",
    "            \n",
    "        \n",
    "r=input('enter string :')\n",
    "x=input('character to insert  :')\n",
    "q=repalce_vowels(r,x)\n",
    "print(q)"
   ]
  },
  {
   "cell_type": "code",
   "execution_count": 48,
   "metadata": {},
   "outputs": [
    {
     "name": "stdout",
     "output_type": "stream",
     "text": [
      "Enter no :5\n",
      "120\n"
     ]
    }
   ],
   "source": [
    "#4\n",
    "def factorial(x):\n",
    "    if(x==1):\n",
    "        return 1\n",
    "    else:\n",
    "        q=x*recr(x-1)\n",
    "    return q\n",
    " \n",
    "    \n",
    "x=int(input('Enter no :'))\n",
    "e=factorial(x)\n",
    "print(e)"
   ]
  },
  {
   "cell_type": "code",
   "execution_count": 76,
   "metadata": {},
   "outputs": [
    {
     "name": "stdout",
     "output_type": "stream",
     "text": [
      "5\n"
     ]
    }
   ],
   "source": [
    "#5\n",
    "def func(String1,String2):\n",
    "    count=0\n",
    "    for i in range(len(String1)):\n",
    "            if(String1[i]!=String2[i]):\n",
    "                count+=1\n",
    "    print(count)\n",
    "        \n",
    "String1='abcde'\n",
    "String2='bcdef'\n",
    "func(String1,String2)\n"
   ]
  },
  {
   "cell_type": "code",
   "execution_count": null,
   "metadata": {},
   "outputs": [],
   "source": []
  }
 ],
 "metadata": {
  "kernelspec": {
   "display_name": "Python 3",
   "language": "python",
   "name": "python3"
  },
  "language_info": {
   "codemirror_mode": {
    "name": "ipython",
    "version": 3
   },
   "file_extension": ".py",
   "mimetype": "text/x-python",
   "name": "python",
   "nbconvert_exporter": "python",
   "pygments_lexer": "ipython3",
   "version": "3.8.3"
  }
 },
 "nbformat": 4,
 "nbformat_minor": 4
}
